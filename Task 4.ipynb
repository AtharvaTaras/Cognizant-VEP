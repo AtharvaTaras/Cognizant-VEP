{
 "cells": [
  {
   "cell_type": "markdown",
   "metadata": {},
   "source": [
    "## Cognizant - Artificial Intelligence Virtual Experience Program"
   ]
  },
  {
   "cell_type": "markdown",
   "metadata": {},
   "source": [
    "### Task 4 - Machine Learning Production\n",
    "Developing machine learning algorithms for production.\n",
    "\n",
    "---------------------------------------------------------------\n",
    "Gala Groceries saw the results of the machine learning model as promising and believe that with more data and time, it can add real value to the business.\n",
    "\n",
    "To build the foundation for this machine learning use case, they want to implement a first version of the algorithm into production. In the current state, as a Python notebook, this is not suitable to productionize a machine learning model. \n",
    "\n",
    "Therefore, as the Data Scientist that created this algorithm, it is your job to prepare a Python module that contains code to train a model and output the performance metrics when the file is run. Additional information about Python modules and running Python files is provided in the additional resources. You can assume for this task that the Python file does not need to process, clean or transform the dataset. The Python file should be able to load a CSV file into a data frame, then immediately start training on that data. Assume that the CSV file will contain the same columns as the dataset that you trained the model on in the previous task.\n",
    "\n",
    "Be sure to write good quality code, this means following best practices and writing your code in a clear and uniform manner. More information about best practices are provided in the additional resources. Furthermore, make sure to document your code with comments, as this will help the ML engineering team to understand what you’ve written."
   ]
  },
  {
   "cell_type": "code",
   "execution_count": 1,
   "metadata": {},
   "outputs": [],
   "source": [
    "# Importing Libraries\n",
    "\n",
    "import pandas as pd\n",
    "from sklearn.ensemble import RandomForestRegressor\n",
    "from sklearn.model_selection import train_test_split\n",
    "from sklearn.metrics import mean_absolute_error\n",
    "from sklearn.preprocessing import StandardScaler"
   ]
  },
  {
   "cell_type": "code",
   "execution_count": 25,
   "metadata": {},
   "outputs": [],
   "source": [
    "def get_data(filepath:str):\n",
    "    \n",
    "    dt = pd.read_csv(filepath)\n",
    "    \n",
    "    print(f'{dt.shape[1]} Rows \\n{dt.shape[0]} Columns \\n')\n",
    "    print(dt.info(), '\\n\\n')\n",
    "    print(dt.describe())\n",
    "    \n",
    "    return dt\n",
    "    "
   ]
  },
  {
   "cell_type": "code",
   "execution_count": 27,
   "metadata": {
    "scrolled": false
   },
   "outputs": [],
   "source": [
    "def training(x_param, y_param, split_ratio=0.8, folds=10, seed=42):\n",
    "    \n",
    "    accuracy = []\n",
    "    \n",
    "    for i in range(0, folds):\n",
    "    \n",
    "        # Instantiate algorithm\n",
    "        model = RandomForestRegressor()\n",
    "        scaler = StandardScaler()\n",
    "        \n",
    "        # Split training and testing samples\n",
    "        \n",
    "        X_train, X_test, Y_train, Y_test = train_test_split(x_param, \n",
    "                                                            y_param,\n",
    "                                                            train_size=split_ratio,\n",
    "                                                            random_state=seed)\n",
    "        \n",
    "        # Fitting\n",
    "        scaler.fit(X_train)\n",
    "        X_train = scaler.transform(X_train)\n",
    "        X_test = scaler.transform(X_test)\n",
    "        \n",
    "        # Training\n",
    "        trained_model = model.fit(X_train, Y_train)\n",
    "        \n",
    "        # Predictions\n",
    "        y_pred = trained_model.predict(X_test)\n",
    "        \n",
    "        # Compute accuracy\n",
    "        mae = mean_absolute_error(y_true=Y_test, y_pred=y_pred)\n",
    "        accuracy.append(mae)\n",
    "        print(f\"Fold {fold + 1}: Mean Accuracy Error = {mae:.3f}\")\n",
    "    \n",
    "    \n",
    "    print(f\"Average MAE: {(sum(accuracy) / len(accuracy)):.2f}\")\n",
    "    "
   ]
  },
  {
   "cell_type": "code",
   "execution_count": null,
   "metadata": {},
   "outputs": [],
   "source": []
  }
 ],
 "metadata": {
  "kernelspec": {
   "display_name": "Python 3",
   "language": "python",
   "name": "python3"
  },
  "language_info": {
   "codemirror_mode": {
    "name": "ipython",
    "version": 3
   },
   "file_extension": ".py",
   "mimetype": "text/x-python",
   "name": "python",
   "nbconvert_exporter": "python",
   "pygments_lexer": "ipython3",
   "version": "3.8.5"
  }
 },
 "nbformat": 4,
 "nbformat_minor": 4
}
